{
 "cells": [
  {
   "cell_type": "code",
   "execution_count": 1,
   "metadata": {},
   "outputs": [
    {
     "name": "stdout",
     "output_type": "stream",
     "text": [
      "GetoptError textsanitizer.py -s <sourcefile> -t <targetfile>\n"
     ]
    },
    {
     "ename": "SystemExit",
     "evalue": "2",
     "output_type": "error",
     "traceback": [
      "An exception has occurred, use %tb to see the full traceback.\n",
      "\u001b[1;31mSystemExit\u001b[0m\u001b[1;31m:\u001b[0m 2\n"
     ]
    },
    {
     "name": "stderr",
     "output_type": "stream",
     "text": [
      "C:\\Users\\Apiwat.Tha\\AppData\\Local\\Continuum\\anaconda3\\lib\\site-packages\\IPython\\core\\interactiveshell.py:3334: UserWarning: To exit: use 'exit', 'quit', or Ctrl-D.\n",
      "  warn(\"To exit: use 'exit', 'quit', or Ctrl-D.\", stacklevel=1)\n"
     ]
    }
   ],
   "source": [
    "import sys, getopt, re\n",
    "\n",
    "#function เสริมเอาไว้สำหรับการทำ Text Sanitization\n",
    "def text_sanitization(sourcetext):\n",
    "    targettext = sourcetext.lower().replace('\\t','_').replace('\\n','')\n",
    "    return targettext\n",
    "\n",
    "#function เสริมเอาไว้สำหรับการทำ Simple Statistic\n",
    "def simple_statistic(targettext):\n",
    "    targettext_onlyalphabet = targettext.replace('_','').replace(' ','').replace('\\n','')\n",
    "    r = re.compile('[@_!#$%^&*()<>?/\\|}{~:]')\n",
    "    targettext_onlyalphabet = r.sub('', targettext_onlyalphabet)\n",
    "    alphabet_frequency_dictionary = {}\n",
    "    for alphabet in set(targettext_onlyalphabet):\n",
    "        alphabet_frequency_dictionary[alphabet] = targettext_onlyalphabet.count(alphabet)\n",
    "    alphabet_frequency_dictionary = dict(sorted(alphabet_frequency_dictionary.items(), key=lambda item: item[1]))\n",
    "    return alphabet_frequency_dictionary\n",
    "\n",
    "#function หลักของ application program\n",
    "def main(argv):\n",
    "    # เริ่มการอ่าน Arguments จาก CLI แล้วจากนั้นจึงเก็บเข้ามาที่ตัวแปร sourcefile และ targetfile เพื่อนำไปใช้อ่านไฟล์ต่อ\n",
    "    sourcefile = ''\n",
    "    \n",
    "    targetfile = ''\n",
    "    \n",
    "    try:\n",
    "        opts, args = getopt.getopt(argv, \"h:s:t:\",[\"sfile=\",\"tfile=\"])\n",
    "        \n",
    "    except getopt.GetoptError:\n",
    "        print('GetoptError textsanitizer.py -s <sourcefile> -t <targetfile>')\n",
    "        sys.exit(2)\n",
    "        \n",
    "    for opt, arg in opts:\n",
    "        if opt == '-h':\n",
    "            print('textsanitizer.py -s <sourcefile> -t <targetfile>')\n",
    "            sys.exit()\n",
    "        elif opt in ('-s', '--sfile'):\n",
    "            sourcefile = arg\n",
    "        elif opt in ('-t', '--tfile'):\n",
    "            targetfile = arg\n",
    "    # จบการอ่าน Arguments จาก CLI แล้วจากนั้นจึงเก็บเข้ามาที่ตัวแปร sourcefile และ targetfile เพื่อนำไปใช้อ่านไฟล์ต่อ\n",
    "    \n",
    "    # เริ่มการอ่าน Text ที่อยู่ใน sourcefile แล้วเก็บไว้ที่ตัวแปร sourcetext จากนั้นทำ text sanitization และ simple statistic\n",
    "    with open(sourcefile, 'r', encoding='utf-8') as source_file:\n",
    "        \n",
    "        sourcetext = source_file.readlines()\n",
    "        \n",
    "        for text in sourcetext:\n",
    "            targettext = text_sanitization(text)\n",
    "            alphabet_frequency_dictionary = simple_statistic(targettext)\n",
    "            print(\"This is a text from source file =\",text.replace('\\n',''))\n",
    "            print(\"This is a text after sanitization =\",targettext)\n",
    "            print(\"This is a number of occurrence for each alphabet not include space & tab =\",alphabet_frequency_dictionary)\n",
    "            for alphabet,occurrence in alphabet_frequency_dictionary.items():\n",
    "                print(f'Alphabet : {alphabet} , Occurrence : {occurrence}')\n",
    "                \n",
    "            # เริ่มการ Save sanitized text ลงบน targetfile\n",
    "            with open(targetfile, 'a+', encoding='utf-8') as target_file:\n",
    "                target_file.seek(0,2)\n",
    "                target_file.write('\\n')\n",
    "                target_file.write(targettext)\n",
    "            # จบการ Save sanitized text ลงบน target file\n",
    "    # จบการอ่าน Text ที่อยู่ใน sourcefile แล้วเก็บไว้ที่ตัวแปร sourcetext จากนั้นทำ text sanitization และ simple statistic และ save ลง file\n",
    "            \n",
    "if __name__ == \"__main__\":\n",
    "    main(sys.argv[1:])"
   ]
  }
 ],
 "metadata": {
  "kernelspec": {
   "display_name": "Python 3",
   "language": "python",
   "name": "python3"
  },
  "language_info": {
   "codemirror_mode": {
    "name": "ipython",
    "version": 3
   },
   "file_extension": ".py",
   "mimetype": "text/x-python",
   "name": "python",
   "nbconvert_exporter": "python",
   "pygments_lexer": "ipython3",
   "version": "3.7.4"
  }
 },
 "nbformat": 4,
 "nbformat_minor": 2
}
